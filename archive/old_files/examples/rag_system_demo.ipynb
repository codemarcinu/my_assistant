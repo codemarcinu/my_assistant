{
 "cells": [
  {
   "cell_type": "markdown",
   "metadata": {},
   "source": [
    "# RAG System Demo\n",
    "\n",
    "This notebook demonstrates how to use the Retrieval-Augmented Generation (RAG) system with the following features:\n",
    "\n",
    "1. Adding documents to the knowledge base\n",
    "2. Processing documents from various sources (files, URLs)\n",
    "3. Searching the knowledge base\n",
    "4. Asking questions with RAG-enhanced responses\n",
    "\n",
    "The system handles document chunking, embedding generation, vector storage, and retrieval automatically."
   ]
  },
  {
   "cell_type": "markdown",
   "metadata": {},
   "source": [
    "## Setup and Imports"
   ]
  },
  {
   "cell_type": "code",
   "execution_count": null,
   "metadata": {},
   "outputs": [],
   "source": [
    "import asyncio\n",
    "import os\n",
    "import sys\n",
    "from pathlib import Path\n",
    "\n",
    "# Add project root to sys.path if needed\n",
    "project_root = Path(\"..\")\n",
    "if str(project_root.absolute()) not in sys.path:\n",
    "    sys.path.append(str(project_root.absolute()))\n",
    "\n",
    "# Import RAG components\n",
    "from src.backend.core.rag_document_processor import rag_document_processor\n",
    "from src.backend.core.enhanced_vector_store import enhanced_vector_store\n",
    "from src.backend.agents.enhanced_rag_agent import EnhancedRAGAgent\n",
    "\n",
    "# Create RAG agent instance\n",
    "rag_agent = EnhancedRAGAgent(\"notebook-demo-agent\")"
   ]
  },
  {
   "cell_type": "markdown",
   "metadata": {},
   "source": [
    "## 1. Adding Individual Documents\n",
    "\n",
    "You can add documents directly as text strings with metadata:"
   ]
  },
  {
   "cell_type": "code",
   "execution_count": null,
   "metadata": {},
   "outputs": [],
   "source": [
    "# Example document as text\n",
    "document_text = \"\"\"\n",
    "# Vector Databases in RAG Systems\n",
    "\n",
    "Vector databases are specialized databases designed to store and efficiently query vector embeddings.\n",
    "They are a critical component in RAG systems as they enable fast similarity search for retrieving\n",
    "relevant context when answering user queries.\n",
    "\n",
    "Popular vector database options include:\n",
    "- FAISS: Facebook AI Similarity Search, an efficient open-source library\n",
    "- Pinecone: A fully managed vector database service\n",
    "- Chroma: An open-source embedding database designed for RAG applications\n",
    "- Milvus: An open-source vector database for similarity search\n",
    "\n",
    "When choosing a vector database, consider factors like scalability, query performance,\n",
    "metadata filtering capabilities, and integration options.\n",
    "\"\"\"\n",
    "\n",
    "# Add metadata about the document\n",
    "metadata = {\n",
    "    \"title\": \"Vector Databases Overview\",\n",
    "    \"author\": \"AI Assistant\",\n",
    "    \"category\": \"Technical\",\n",
    "    \"tags\": [\"vector-db\", \"embeddings\", \"RAG\"]\n",
    "}\n",
    "\n",
    "# Process the document\n",
    "async def add_sample_document():\n",
    "    result = await rag_agent.add_document(document_text, \"sample-vector-db-doc\", metadata)\n",
    "    print(f\"Added document with {len(result)} chunks\")\n",
    "    return result\n",
    "\n",
    "# Run the async function\n",
    "result = await add_sample_document()"
   ]
  },
  {
   "cell_type": "markdown",
   "metadata": {},
   "source": [
    "## 2. Adding Documents from Files\n",
    "\n",
    "The system can process various file types including PDF, Word, HTML, and text files:"
   ]
  },
  {
   "cell_type": "code",
   "execution_count": null,
   "metadata": {},
   "outputs": [],
   "source": [
    "# Process a sample markdown file\n",
    "async def add_sample_file():\n",
    "    # Path to the sample file\n",
    "    file_path = \"../data/docs/rag_sample.md\"\n",
    "    \n",
    "    # Add metadata\n",
    "    metadata = {\n",
    "        \"category\": \"Educational\",\n",
    "        \"tags\": [\"RAG\", \"tutorial\", \"AI\"]\n",
    "    }\n",
    "    \n",
    "    # Process the file\n",
    "    result = await rag_agent.add_file(file_path, metadata)\n",
    "    print(f\"Processed file with {result['chunks_processed']} chunks\")\n",
    "    return result\n",
    "\n",
    "# Run the async function\n",
    "file_result = await add_sample_file()"
   ]
  },
  {
   "cell_type": "markdown",
   "metadata": {},
   "source": [
    "## 3. Searching the Knowledge Base\n",
    "\n",
    "You can search for documents semantically:"
   ]
  },
  {
   "cell_type": "code",
   "execution_count": null,
   "metadata": {},
   "outputs": [],
   "source": [
    "# Search for information about vector databases\n",
    "async def search_knowledge_base():\n",
    "    query = \"What are the best vector databases for RAG systems?\"\n",
    "    results = await rag_agent.search(query, k=3)\n",
    "    \n",
    "    print(f\"Found {len(results)} relevant documents:\\n\")\n",
    "    \n",
    "    for i, result in enumerate(results):\n",
    "        print(f\"Result {i+1} (similarity: {result['similarity']:.2f})\")\n",
    "        print(f\"Source: {result['metadata'].get('source', 'Unknown')}\")\n",
    "        \n",
    "        # Print tags and category if available\n",
    "        tags = result['metadata'].get('tags')\n",
    "        if tags:\n",
    "            print(f\"Tags: {', '.join(tags)}\")\n",
    "            \n",
    "        category = result['metadata'].get('category')\n",
    "        if category:\n",
    "            print(f\"Category: {category}\")\n",
    "            \n",
    "        # Print snippet of text\n",
    "        text = result['text']\n",
    "        print(f\"\\nText: {text[:200]}...\" if len(text) > 200 else f\"\\nText: {text}\")\n",
    "        print(\"\\n\" + \"-\"*50 + \"\\n\")\n",
    "    \n",
    "    return results\n",
    "\n",
    "# Run the search\n",
    "search_results = await search_knowledge_base()"
   ]
  },
  {
   "cell_type": "markdown",
   "metadata": {},
   "source": [
    "## 4. Asking Questions with RAG\n",
    "\n",
    "The RAG agent can answer questions based on the knowledge base:"
   ]
  },
  {
   "cell_type": "code",
   "execution_count": null,
   "metadata": {},
   "outputs": [],
   "source": [
    "# Ask a question using RAG\n",
    "async def ask_question():\n",
    "    question = \"Explain the components of a RAG architecture and why it's useful\"\n",
    "    \n",
    "    # Get response from RAG agent\n",
    "    response = await rag_agent.process({\"query\": question})\n",
    "    \n",
    "    print(\"Question:\")\n",
    "    print(question)\n",
    "    print(\"\\nAnswer:\")\n",
    "    print(response.text)\n",
    "    \n",
    "    return response\n",
    "\n",
    "# Ask the question\n",
    "rag_response = await ask_question()"
   ]
  },
  {
   "cell_type": "markdown",
   "metadata": {},
   "source": [
    "## 5. Filtering Search Results\n",
    "\n",
    "You can filter search results by metadata:"
   ]
  },
  {
   "cell_type": "code",
   "execution_count": null,
   "metadata": {},
   "outputs": [],
   "source": [
    "# Search with metadata filters\n",
    "async def filtered_search():\n",
    "    query = \"vector database options\"\n",
    "    \n",
    "    # Filter by category\n",
    "    filter_metadata = {\n",
    "        \"category\": \"Technical\"\n",
    "    }\n",
    "    \n",
    "    results = await rag_agent.search(\n",
    "        query=query,\n",
    "        k=5,\n",
    "        filter_metadata=filter_metadata\n",
    "    )\n",
    "    \n",
    "    print(f\"Found {len(results)} matching Technical category results\")\n",
    "    \n",
    "    for i, result in enumerate(results):\n",
    "        print(f\"\\nResult {i+1} (similarity: {result['similarity']:.2f})\")\n",
    "        print(f\"Category: {result['metadata'].get('category', 'None')}\")\n",
    "        print(f\"Text snippet: {result['text'][:100]}...\")\n",
    "    \n",
    "    return results\n",
    "\n",
    "# Run filtered search\n",
    "filtered_results = await filtered_search()"
   ]
  },
  {
   "cell_type": "markdown",
   "metadata": {},
   "source": [
    "## 6. Saving the Vector Store\n",
    "\n",
    "To persist the vector store for future use:"
   ]
  },
  {
   "cell_type": "code",
   "execution_count": null,
   "metadata": {},
   "outputs": [],
   "source": [
    "# Save the vector store\n",
    "async def save_vector_store():\n",
    "    await enhanced_vector_store.save_index_async()\n",
    "    print(\"Vector store saved successfully\")\n",
    "\n",
    "# Save the store\n",
    "await save_vector_store()"
   ]
  },
  {
   "cell_type": "markdown",
   "metadata": {},
   "source": [
    "## Conclusion\n",
    "\n",
    "This demonstration shows how to use the RAG system for:\n",
    "1. Adding documents from text and files\n",
    "2. Searching the knowledge base semantically\n",
    "3. Filtering results by metadata\n",
    "4. Getting RAG-enhanced responses to questions\n",
    "\n",
    "The system handles all the complexities of document processing, embedding generation, vector storage, and retrieval behind the scenes, providing a simple interface for building RAG-powered applications."
   ]
  }
 ],
 "metadata": {
  "kernelspec": {
   "display_name": "Python 3",
   "language": "python",
   "name": "python3"
  },
  "language_info": {
   "codemirror_mode": {
    "name": "ipython",
    "version": 3
   },
   "file_extension": ".py",
   "mimetype": "text/x-python",
   "name": "python",
   "nbconvert_exporter": "python",
   "pygments_lexer": "ipython3",
   "version": "3.9.0"
  }
 },
 "nbformat": 4,
 "nbformat_minor": 4
}
